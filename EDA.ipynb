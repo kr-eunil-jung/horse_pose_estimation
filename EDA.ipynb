{
 "cells": [
  {
   "cell_type": "code",
   "execution_count": 23,
   "id": "93c5de6c-790f-4f00-ae29-a894add6aa5f",
   "metadata": {},
   "outputs": [],
   "source": [
    "import json\n",
    "from glob import glob\n",
    "import cv2"
   ]
  },
  {
   "cell_type": "code",
   "execution_count": 24,
   "id": "85eee7e9-432e-40c0-9273-2a7828b8f479",
   "metadata": {},
   "outputs": [],
   "source": [
    "data_path = './data'\n",
    "sample_path = 'sample'\n",
    "image_path = 'image'"
   ]
  },
  {
   "cell_type": "code",
   "execution_count": 5,
   "id": "5a82ac4b-0f70-451c-b19a-0723caf86b88",
   "metadata": {},
   "outputs": [],
   "source": [
    "anno_data_path = '/'.join([data_path, sample_path, 'sample_label.json'])"
   ]
  },
  {
   "cell_type": "code",
   "execution_count": 6,
   "id": "4bed7947-4e80-4daf-8ac1-19c6f05b19e3",
   "metadata": {},
   "outputs": [],
   "source": [
    "with open(anno_data_path, 'r') as f:\n",
    "    anno_data = json.load(f)"
   ]
  },
  {
   "cell_type": "code",
   "execution_count": 8,
   "id": "8265e062-ddd2-4267-a4e3-6df1c9e251c0",
   "metadata": {},
   "outputs": [
    {
     "data": {
      "text/plain": [
       "[{'supercategory': 'animal', 'id': 1, 'name': 'horse'}]"
      ]
     },
     "execution_count": 8,
     "metadata": {},
     "output_type": "execute_result"
    }
   ],
   "source": [
    "anno_data['categories']"
   ]
  },
  {
   "cell_type": "code",
   "execution_count": null,
   "id": "550363e7-e53c-4115-9d36-4a812e287195",
   "metadata": {},
   "outputs": [],
   "source": [
    "sample_image_path = '/'.join([data_path, sample_path, image_path])"
   ]
  },
  {
   "cell_type": "code",
   "execution_count": null,
   "id": "4d617a3c-c817-4f0b-bd6f-30b931ac712d",
   "metadata": {},
   "outputs": [],
   "source": [
    "image_files = sorted(glob(sample_image_path+'/*'))"
   ]
  },
  {
   "cell_type": "code",
   "execution_count": null,
   "id": "f535a0b5-e63d-41f6-8d2b-aa6bb926399a",
   "metadata": {},
   "outputs": [
    {
     "data": {
      "text/plain": [
       "(1410, 1657, 3)"
      ]
     },
     "execution_count": 36,
     "metadata": {},
     "output_type": "execute_result"
    }
   ],
   "source": [
    "sample_image = cv2.imread(image_files[3])\n",
    "sample_image.shape"
   ]
  }
 ],
 "metadata": {
  "kernelspec": {
   "display_name": "nipa2022",
   "language": "python",
   "name": "nipa2022"
  },
  "language_info": {
   "codemirror_mode": {
    "name": "ipython",
    "version": 3
   },
   "file_extension": ".py",
   "mimetype": "text/x-python",
   "name": "python",
   "nbconvert_exporter": "python",
   "pygments_lexer": "ipython3",
   "version": "3.8.13"
  }
 },
 "nbformat": 4,
 "nbformat_minor": 5
}
